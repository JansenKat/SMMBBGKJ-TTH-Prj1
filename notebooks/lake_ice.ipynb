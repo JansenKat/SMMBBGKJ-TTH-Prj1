{
 "cells": [
  {
   "cell_type": "code",
   "execution_count": 1,
   "metadata": {},
   "outputs": [],
   "source": [
    "import os\n",
    "import pandas as pd\n",
    "import requests\n",
    "import datetime as dt"
   ]
  },
  {
   "cell_type": "code",
   "execution_count": 2,
   "metadata": {},
   "outputs": [],
   "source": [
    "noaa_source_spreadsheets = 'https://www.glerl.noaa.gov/data/dashboard/data/hydroIO/sourceSpreadsheets/'"
   ]
  },
  {
   "cell_type": "code",
   "execution_count": 3,
   "metadata": {},
   "outputs": [],
   "source": [
    "#ice data\n",
    "path = os.path.join('..','data_files','ice_data')\n",
    "basin = 'basinIce.csv'\n",
    "erie = 'erieIceData.csv'\n",
    "huron = 'huronIceData.csv'\n",
    "mi = 'miIceData.csv'\n",
    "ontario = 'ontarioIceData.csv'\n",
    "superior = 'superiorIceData.csv'\n",
    "files = [basin,erie,huron,mi,ontario,superior]\n",
    "df = pd.DataFrame()\n",
    "sources = []"
   ]
  },
  {
   "cell_type": "markdown",
   "metadata": {},
   "source": [
    "basinIce.csv includes an aggregate of the other lakes and the much smaller Lake St. Clair.\n",
    "We should remove the aggregate and include Lake St. Clair as it's own column."
   ]
  },
  {
   "cell_type": "code",
   "execution_count": 4,
   "metadata": {},
   "outputs": [
    {
     "data": {
      "text/html": [
       "<div>\n",
       "<style scoped>\n",
       "    .dataframe tbody tr th:only-of-type {\n",
       "        vertical-align: middle;\n",
       "    }\n",
       "\n",
       "    .dataframe tbody tr th {\n",
       "        vertical-align: top;\n",
       "    }\n",
       "\n",
       "    .dataframe thead th {\n",
       "        text-align: right;\n",
       "    }\n",
       "</style>\n",
       "<table border=\"1\" class=\"dataframe\">\n",
       "  <thead>\n",
       "    <tr style=\"text-align: right;\">\n",
       "      <th></th>\n",
       "      <th>Date</th>\n",
       "      <th>Great Lakes + St. Clair Ice Cover</th>\n",
       "      <th>Lake Erie</th>\n",
       "      <th>Lake Huron</th>\n",
       "      <th>Lake Michigan</th>\n",
       "      <th>Lake Ontario</th>\n",
       "      <th>Lake Superior</th>\n",
       "    </tr>\n",
       "  </thead>\n",
       "  <tbody>\n",
       "    <tr>\n",
       "      <th>0</th>\n",
       "      <td>12/20/1972</td>\n",
       "      <td>14.29</td>\n",
       "      <td>0</td>\n",
       "      <td>25.26</td>\n",
       "      <td>9.21</td>\n",
       "      <td>0.61</td>\n",
       "      <td>16.62</td>\n",
       "    </tr>\n",
       "    <tr>\n",
       "      <th>1</th>\n",
       "      <td>12/28/1972</td>\n",
       "      <td>9.41</td>\n",
       "      <td>0</td>\n",
       "      <td>12.65</td>\n",
       "      <td>12.09</td>\n",
       "      <td>2.98</td>\n",
       "      <td>9.35</td>\n",
       "    </tr>\n",
       "    <tr>\n",
       "      <th>2</th>\n",
       "      <td>01/02/1973</td>\n",
       "      <td>12.07</td>\n",
       "      <td>3.4</td>\n",
       "      <td>22.0</td>\n",
       "      <td>6.53</td>\n",
       "      <td>2.8</td>\n",
       "      <td>13.03</td>\n",
       "    </tr>\n",
       "    <tr>\n",
       "      <th>3</th>\n",
       "      <td>01/09/1973</td>\n",
       "      <td>27.22</td>\n",
       "      <td>25.4</td>\n",
       "      <td>31.3</td>\n",
       "      <td>21.55</td>\n",
       "      <td>21.4</td>\n",
       "      <td>29.69</td>\n",
       "    </tr>\n",
       "    <tr>\n",
       "      <th>4</th>\n",
       "      <td>01/16/1973</td>\n",
       "      <td>21.56</td>\n",
       "      <td>42.3</td>\n",
       "      <td>25.3</td>\n",
       "      <td>22.39</td>\n",
       "      <td>11.7</td>\n",
       "      <td>15.25</td>\n",
       "    </tr>\n",
       "  </tbody>\n",
       "</table>\n",
       "</div>"
      ],
      "text/plain": [
       "         Date Great Lakes + St. Clair Ice Cover Lake Erie Lake Huron  \\\n",
       "0  12/20/1972                             14.29         0      25.26   \n",
       "1  12/28/1972                              9.41         0      12.65   \n",
       "2  01/02/1973                             12.07       3.4       22.0   \n",
       "3  01/09/1973                             27.22      25.4       31.3   \n",
       "4  01/16/1973                             21.56      42.3       25.3   \n",
       "\n",
       "  Lake Michigan Lake Ontario Lake Superior  \n",
       "0          9.21         0.61         16.62  \n",
       "1         12.09         2.98          9.35  \n",
       "2          6.53          2.8         13.03  \n",
       "3         21.55         21.4         29.69  \n",
       "4         22.39         11.7         15.25  "
      ]
     },
     "execution_count": 4,
     "metadata": {},
     "output_type": "execute_result"
    }
   ],
   "source": [
    "for e in files:\n",
    "    new_df = pd.read_csv(os.path.join(path,e))\n",
    "    lake = new_df.columns[0].replace(':','')\n",
    "    sources.append({'Lake':lake,\n",
    "                   'Sources':new_df.iloc[0]})\n",
    "    new_df.columns = ['Date',f'{lake}']\n",
    "    new_df = new_df.drop([0,1])\n",
    "    if len(df) == 0:\n",
    "        df = new_df\n",
    "    else:\n",
    "        df = df.merge(new_df,how='outer',left_on='Date',right_on ='Date')\n",
    "df.head()"
   ]
  },
  {
   "cell_type": "markdown",
   "metadata": {},
   "source": [
    "Covert Date column to DateTime\n",
    "Should we make that column the index?"
   ]
  },
  {
   "cell_type": "code",
   "execution_count": null,
   "metadata": {},
   "outputs": [],
   "source": []
  }
 ],
 "metadata": {
  "kernelspec": {
   "display_name": "lots_of_packages",
   "language": "python",
   "name": "python3"
  },
  "language_info": {
   "codemirror_mode": {
    "name": "ipython",
    "version": 3
   },
   "file_extension": ".py",
   "mimetype": "text/x-python",
   "name": "python",
   "nbconvert_exporter": "python",
   "pygments_lexer": "ipython3",
   "version": "3.7.5"
  }
 },
 "nbformat": 4,
 "nbformat_minor": 4
}
